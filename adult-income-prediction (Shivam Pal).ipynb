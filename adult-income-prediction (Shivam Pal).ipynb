{
 "cells": [
  {
   "cell_type": "markdown",
   "metadata": {
    "id": "S6tK5vaRl1jb"
   },
   "source": [
    " ### Step-1 Importing the important libraries and modules"
   ]
  },
  {
   "cell_type": "code",
   "execution_count": 3,
   "metadata": {
    "execution": {
     "iopub.execute_input": "2022-12-13T06:31:13.279721Z",
     "iopub.status.busy": "2022-12-13T06:31:13.278908Z",
     "iopub.status.idle": "2022-12-13T06:31:16.747211Z",
     "shell.execute_reply": "2022-12-13T06:31:16.745870Z",
     "shell.execute_reply.started": "2022-12-13T06:31:13.279548Z"
    },
    "id": "C2c6lChOmOzs"
   },
   "outputs": [],
   "source": [
    "import numpy as np\n",
    "import pandas as pd\n",
    "from sklearn import tree\n",
    "from sklearn.model_selection import train_test_split\n",
    "from sklearn.tree import DecisionTreeClassifier\n",
    "from sklearn.ensemble import RandomForestClassifier\n",
    "from sklearn.model_selection import train_test_split, GridSearchCV\n",
    "from sklearn.metrics import accuracy_score, f1_score, confusion_matrix, roc_auc_score, roc_curve\n",
    "from pandas_profiling import ProfileReport\n",
    "import sklearn.metrics as metrics\n",
    "\n",
    "from sklearn.impute import SimpleImputer\n",
    "from sklearn.compose import ColumnTransformer\n",
    "from sklearn.preprocessing import OrdinalEncoder\n",
    "from sklearn.preprocessing import OneHotEncoder\n",
    "from sklearn.preprocessing import MinMaxScaler\n",
    "from sklearn.preprocessing import RobustScaler\n",
    "from sklearn.preprocessing import PowerTransformer\n",
    "\n",
    "from sklearn import preprocessing\n",
    "import matplotlib.pyplot as plt\n",
    "\n",
    "from sklearn.pipeline import Pipeline, make_pipeline\n",
    "import seaborn as sns"
   ]
  },
  {
   "cell_type": "markdown",
   "metadata": {
    "id": "t4keHrXUmWwI"
   },
   "source": [
    "### Step-2 Importing the dataset"
   ]
  },
  {
   "cell_type": "code",
   "execution_count": 4,
   "metadata": {
    "execution": {
     "iopub.execute_input": "2022-12-13T06:31:16.751240Z",
     "iopub.status.busy": "2022-12-13T06:31:16.750691Z",
     "iopub.status.idle": "2022-12-13T06:31:16.997992Z",
     "shell.execute_reply": "2022-12-13T06:31:16.995877Z",
     "shell.execute_reply.started": "2022-12-13T06:31:16.751191Z"
    },
    "id": "mIZqJowemfan",
    "outputId": "66ab77d1-e0da-451e-b323-0aded3391e40"
   },
   "outputs": [
    {
     "data": {
      "text/html": [
       "<div>\n",
       "<style scoped>\n",
       "    .dataframe tbody tr th:only-of-type {\n",
       "        vertical-align: middle;\n",
       "    }\n",
       "\n",
       "    .dataframe tbody tr th {\n",
       "        vertical-align: top;\n",
       "    }\n",
       "\n",
       "    .dataframe thead th {\n",
       "        text-align: right;\n",
       "    }\n",
       "</style>\n",
       "<table border=\"1\" class=\"dataframe\">\n",
       "  <thead>\n",
       "    <tr style=\"text-align: right;\">\n",
       "      <th></th>\n",
       "      <th>age</th>\n",
       "      <th>workclass</th>\n",
       "      <th>fnlwgt</th>\n",
       "      <th>education</th>\n",
       "      <th>educational-num</th>\n",
       "      <th>marital-status</th>\n",
       "      <th>occupation</th>\n",
       "      <th>relationship</th>\n",
       "      <th>race</th>\n",
       "      <th>gender</th>\n",
       "      <th>capital-gain</th>\n",
       "      <th>capital-loss</th>\n",
       "      <th>hours-per-week</th>\n",
       "      <th>native-country</th>\n",
       "      <th>income</th>\n",
       "    </tr>\n",
       "  </thead>\n",
       "  <tbody>\n",
       "    <tr>\n",
       "      <th>0</th>\n",
       "      <td>25</td>\n",
       "      <td>Private</td>\n",
       "      <td>226802</td>\n",
       "      <td>11th</td>\n",
       "      <td>7</td>\n",
       "      <td>Never-married</td>\n",
       "      <td>Machine-op-inspct</td>\n",
       "      <td>Own-child</td>\n",
       "      <td>Black</td>\n",
       "      <td>Male</td>\n",
       "      <td>0</td>\n",
       "      <td>0</td>\n",
       "      <td>40</td>\n",
       "      <td>United-States</td>\n",
       "      <td>&lt;=50K</td>\n",
       "    </tr>\n",
       "    <tr>\n",
       "      <th>1</th>\n",
       "      <td>38</td>\n",
       "      <td>Private</td>\n",
       "      <td>89814</td>\n",
       "      <td>HS-grad</td>\n",
       "      <td>9</td>\n",
       "      <td>Married-civ-spouse</td>\n",
       "      <td>Farming-fishing</td>\n",
       "      <td>Husband</td>\n",
       "      <td>White</td>\n",
       "      <td>Male</td>\n",
       "      <td>0</td>\n",
       "      <td>0</td>\n",
       "      <td>50</td>\n",
       "      <td>United-States</td>\n",
       "      <td>&lt;=50K</td>\n",
       "    </tr>\n",
       "    <tr>\n",
       "      <th>2</th>\n",
       "      <td>28</td>\n",
       "      <td>Local-gov</td>\n",
       "      <td>336951</td>\n",
       "      <td>Assoc-acdm</td>\n",
       "      <td>12</td>\n",
       "      <td>Married-civ-spouse</td>\n",
       "      <td>Protective-serv</td>\n",
       "      <td>Husband</td>\n",
       "      <td>White</td>\n",
       "      <td>Male</td>\n",
       "      <td>0</td>\n",
       "      <td>0</td>\n",
       "      <td>40</td>\n",
       "      <td>United-States</td>\n",
       "      <td>&gt;50K</td>\n",
       "    </tr>\n",
       "    <tr>\n",
       "      <th>3</th>\n",
       "      <td>44</td>\n",
       "      <td>Private</td>\n",
       "      <td>160323</td>\n",
       "      <td>Some-college</td>\n",
       "      <td>10</td>\n",
       "      <td>Married-civ-spouse</td>\n",
       "      <td>Machine-op-inspct</td>\n",
       "      <td>Husband</td>\n",
       "      <td>Black</td>\n",
       "      <td>Male</td>\n",
       "      <td>7688</td>\n",
       "      <td>0</td>\n",
       "      <td>40</td>\n",
       "      <td>United-States</td>\n",
       "      <td>&gt;50K</td>\n",
       "    </tr>\n",
       "    <tr>\n",
       "      <th>4</th>\n",
       "      <td>18</td>\n",
       "      <td>?</td>\n",
       "      <td>103497</td>\n",
       "      <td>Some-college</td>\n",
       "      <td>10</td>\n",
       "      <td>Never-married</td>\n",
       "      <td>?</td>\n",
       "      <td>Own-child</td>\n",
       "      <td>White</td>\n",
       "      <td>Female</td>\n",
       "      <td>0</td>\n",
       "      <td>0</td>\n",
       "      <td>30</td>\n",
       "      <td>United-States</td>\n",
       "      <td>&lt;=50K</td>\n",
       "    </tr>\n",
       "  </tbody>\n",
       "</table>\n",
       "</div>"
      ],
      "text/plain": [
       "   age  workclass  fnlwgt     education  educational-num      marital-status  \\\n",
       "0   25    Private  226802          11th                7       Never-married   \n",
       "1   38    Private   89814       HS-grad                9  Married-civ-spouse   \n",
       "2   28  Local-gov  336951    Assoc-acdm               12  Married-civ-spouse   \n",
       "3   44    Private  160323  Some-college               10  Married-civ-spouse   \n",
       "4   18          ?  103497  Some-college               10       Never-married   \n",
       "\n",
       "          occupation relationship   race  gender  capital-gain  capital-loss  \\\n",
       "0  Machine-op-inspct    Own-child  Black    Male             0             0   \n",
       "1    Farming-fishing      Husband  White    Male             0             0   \n",
       "2    Protective-serv      Husband  White    Male             0             0   \n",
       "3  Machine-op-inspct      Husband  Black    Male          7688             0   \n",
       "4                  ?    Own-child  White  Female             0             0   \n",
       "\n",
       "   hours-per-week native-country income  \n",
       "0              40  United-States  <=50K  \n",
       "1              50  United-States  <=50K  \n",
       "2              40  United-States   >50K  \n",
       "3              40  United-States   >50K  \n",
       "4              30  United-States  <=50K  "
      ]
     },
     "execution_count": 4,
     "metadata": {},
     "output_type": "execute_result"
    }
   ],
   "source": [
    "df  = pd.read_csv(\"D:/Downloads/adult.csv/adult.csv\")\n",
    "df.head()"
   ]
  },
  {
   "cell_type": "markdown",
   "metadata": {
    "id": "QTmXeplDmtCC"
   },
   "source": [
    "### Step-3 Information of dataset"
   ]
  },
  {
   "cell_type": "code",
   "execution_count": 5,
   "metadata": {
    "execution": {
     "iopub.execute_input": "2022-12-13T06:31:17.000179Z",
     "iopub.status.busy": "2022-12-13T06:31:16.999678Z",
     "iopub.status.idle": "2022-12-13T06:31:17.059561Z",
     "shell.execute_reply": "2022-12-13T06:31:17.057860Z",
     "shell.execute_reply.started": "2022-12-13T06:31:17.000140Z"
    },
    "id": "u4Dx2Dsxmt7N"
   },
   "outputs": [
    {
     "name": "stdout",
     "output_type": "stream",
     "text": [
      "<class 'pandas.core.frame.DataFrame'>\n",
      "RangeIndex: 48842 entries, 0 to 48841\n",
      "Data columns (total 15 columns):\n",
      " #   Column           Non-Null Count  Dtype \n",
      "---  ------           --------------  ----- \n",
      " 0   age              48842 non-null  int64 \n",
      " 1   workclass        48842 non-null  object\n",
      " 2   fnlwgt           48842 non-null  int64 \n",
      " 3   education        48842 non-null  object\n",
      " 4   educational-num  48842 non-null  int64 \n",
      " 5   marital-status   48842 non-null  object\n",
      " 6   occupation       48842 non-null  object\n",
      " 7   relationship     48842 non-null  object\n",
      " 8   race             48842 non-null  object\n",
      " 9   gender           48842 non-null  object\n",
      " 10  capital-gain     48842 non-null  int64 \n",
      " 11  capital-loss     48842 non-null  int64 \n",
      " 12  hours-per-week   48842 non-null  int64 \n",
      " 13  native-country   48842 non-null  object\n",
      " 14  income           48842 non-null  object\n",
      "dtypes: int64(6), object(9)\n",
      "memory usage: 5.6+ MB\n"
     ]
    }
   ],
   "source": [
    "df.info()"
   ]
  },
  {
   "cell_type": "markdown",
   "metadata": {
    "id": "9K2upZS5mzlh"
   },
   "source": [
    "### Step-4 Checking the null values"
   ]
  },
  {
   "cell_type": "code",
   "execution_count": 6,
   "metadata": {
    "execution": {
     "iopub.execute_input": "2022-12-13T06:31:17.063299Z",
     "iopub.status.busy": "2022-12-13T06:31:17.062827Z",
     "iopub.status.idle": "2022-12-13T06:31:17.096514Z",
     "shell.execute_reply": "2022-12-13T06:31:17.094557Z",
     "shell.execute_reply.started": "2022-12-13T06:31:17.063257Z"
    },
    "id": "urUJ6F4Imwo-"
   },
   "outputs": [
    {
     "data": {
      "text/plain": [
       "age                0\n",
       "workclass          0\n",
       "fnlwgt             0\n",
       "education          0\n",
       "educational-num    0\n",
       "marital-status     0\n",
       "occupation         0\n",
       "relationship       0\n",
       "race               0\n",
       "gender             0\n",
       "capital-gain       0\n",
       "capital-loss       0\n",
       "hours-per-week     0\n",
       "native-country     0\n",
       "income             0\n",
       "dtype: int64"
      ]
     },
     "execution_count": 6,
     "metadata": {},
     "output_type": "execute_result"
    }
   ],
   "source": [
    "df.isnull().sum()"
   ]
  },
  {
   "cell_type": "markdown",
   "metadata": {
    "id": "cS83P2Ghm3IF"
   },
   "source": [
    "### Step-5 Cheking and handling the duplicated rows"
   ]
  },
  {
   "cell_type": "code",
   "execution_count": 7,
   "metadata": {
    "execution": {
     "iopub.execute_input": "2022-12-13T06:31:17.100060Z",
     "iopub.status.busy": "2022-12-13T06:31:17.099624Z",
     "iopub.status.idle": "2022-12-13T06:31:17.165569Z",
     "shell.execute_reply": "2022-12-13T06:31:17.164110Z",
     "shell.execute_reply.started": "2022-12-13T06:31:17.100026Z"
    },
    "id": "HEztVTUTm6e_"
   },
   "outputs": [
    {
     "data": {
      "text/plain": [
       "52"
      ]
     },
     "execution_count": 7,
     "metadata": {},
     "output_type": "execute_result"
    }
   ],
   "source": [
    "df.duplicated().sum()"
   ]
  },
  {
   "cell_type": "code",
   "execution_count": 8,
   "metadata": {
    "execution": {
     "iopub.execute_input": "2022-12-13T06:31:17.169195Z",
     "iopub.status.busy": "2022-12-13T06:31:17.167391Z",
     "iopub.status.idle": "2022-12-13T06:31:17.234432Z",
     "shell.execute_reply": "2022-12-13T06:31:17.233391Z",
     "shell.execute_reply.started": "2022-12-13T06:31:17.169140Z"
    },
    "id": "4pvD6gObm823"
   },
   "outputs": [],
   "source": [
    "df = df.drop_duplicates()"
   ]
  },
  {
   "cell_type": "code",
   "execution_count": 9,
   "metadata": {
    "execution": {
     "iopub.execute_input": "2022-12-13T06:31:17.237254Z",
     "iopub.status.busy": "2022-12-13T06:31:17.236358Z",
     "iopub.status.idle": "2022-12-13T06:31:17.303442Z",
     "shell.execute_reply": "2022-12-13T06:31:17.302098Z",
     "shell.execute_reply.started": "2022-12-13T06:31:17.237204Z"
    },
    "id": "63ehizI0m-8N"
   },
   "outputs": [
    {
     "data": {
      "text/plain": [
       "0"
      ]
     },
     "execution_count": 9,
     "metadata": {},
     "output_type": "execute_result"
    }
   ],
   "source": [
    "df.duplicated().sum()"
   ]
  },
  {
   "cell_type": "markdown",
   "metadata": {
    "id": "BFT2K4GDnHPn"
   },
   "source": [
    "### Analysis of dataset"
   ]
  },
  {
   "cell_type": "code",
   "execution_count": 10,
   "metadata": {
    "execution": {
     "iopub.execute_input": "2022-12-13T06:31:17.307603Z",
     "iopub.status.busy": "2022-12-13T06:31:17.306109Z",
     "iopub.status.idle": "2022-12-13T06:31:17.398323Z",
     "shell.execute_reply": "2022-12-13T06:31:17.396837Z",
     "shell.execute_reply.started": "2022-12-13T06:31:17.307549Z"
    },
    "id": "o9kTutHLnA4-",
    "scrolled": true
   },
   "outputs": [
    {
     "name": "stdout",
     "output_type": "stream",
     "text": [
      "\n",
      "\n",
      "\n",
      "values of age\n",
      "36    1348\n",
      "35    1336\n",
      "33    1335\n",
      "23    1325\n",
      "31    1324\n",
      "      ... \n",
      "88       6\n",
      "85       5\n",
      "87       3\n",
      "89       2\n",
      "86       1\n",
      "Length: 74, dtype: int64\n",
      "\n",
      "\n",
      "\n",
      "values of workclass\n",
      "Private             33860\n",
      "Self-emp-not-inc     3861\n",
      "Local-gov            3136\n",
      "?                    2795\n",
      "State-gov            1981\n",
      "Self-emp-inc         1694\n",
      "Federal-gov          1432\n",
      "Without-pay            21\n",
      "Never-worked           10\n",
      "dtype: int64\n",
      "\n",
      "\n",
      "\n",
      "values of fnlwgt\n",
      "203488     21\n",
      "190290     19\n",
      "120277     19\n",
      "125892     18\n",
      "126569     18\n",
      "           ..\n",
      "163443      1\n",
      "163393      1\n",
      "163385      1\n",
      "163380      1\n",
      "1490400     1\n",
      "Length: 28523, dtype: int64\n",
      "\n",
      "\n",
      "\n",
      "values of education\n",
      "HS-grad         15770\n",
      "Some-college    10863\n",
      "Bachelors        8013\n",
      "Masters          2656\n",
      "Assoc-voc        2060\n",
      "11th             1812\n",
      "Assoc-acdm       1601\n",
      "10th             1389\n",
      "7th-8th           954\n",
      "Prof-school       834\n",
      "9th               756\n",
      "12th              655\n",
      "Doctorate         594\n",
      "5th-6th           507\n",
      "1st-4th           245\n",
      "Preschool          81\n",
      "dtype: int64\n",
      "\n",
      "\n",
      "\n",
      "values of educational-num\n",
      "9     15770\n",
      "10    10863\n",
      "13     8013\n",
      "14     2656\n",
      "11     2060\n",
      "7      1812\n",
      "12     1601\n",
      "6      1389\n",
      "4       954\n",
      "15      834\n",
      "5       756\n",
      "8       655\n",
      "16      594\n",
      "3       507\n",
      "2       245\n",
      "1        81\n",
      "dtype: int64\n",
      "\n",
      "\n",
      "\n",
      "values of marital-status\n",
      "Married-civ-spouse       22366\n",
      "Never-married            16082\n",
      "Divorced                  6630\n",
      "Separated                 1530\n",
      "Widowed                   1518\n",
      "Married-spouse-absent      627\n",
      "Married-AF-spouse           37\n",
      "dtype: int64\n",
      "\n",
      "\n",
      "\n",
      "values of occupation\n",
      "Prof-specialty       6165\n",
      "Craft-repair         6102\n",
      "Exec-managerial      6082\n",
      "Adm-clerical         5606\n",
      "Sales                5501\n",
      "Other-service        4919\n",
      "Machine-op-inspct    3017\n",
      "?                    2805\n",
      "Transport-moving     2355\n",
      "Handlers-cleaners    2071\n",
      "Farming-fishing      1485\n",
      "Tech-support         1445\n",
      "Protective-serv       982\n",
      "Priv-house-serv       240\n",
      "Armed-Forces           15\n",
      "dtype: int64\n",
      "\n",
      "\n",
      "\n",
      "values of relationship\n",
      "Husband           19703\n",
      "Not-in-family     12557\n",
      "Own-child          7569\n",
      "Unmarried          5124\n",
      "Wife               2331\n",
      "Other-relative     1506\n",
      "dtype: int64\n",
      "\n",
      "\n",
      "\n",
      "values of race\n",
      "White                 41714\n",
      "Black                  4683\n",
      "Asian-Pac-Islander     1517\n",
      "Amer-Indian-Eskimo      470\n",
      "Other                   406\n",
      "dtype: int64\n",
      "\n",
      "\n",
      "\n",
      "values of gender\n",
      "Male      32614\n",
      "Female    16176\n",
      "dtype: int64\n",
      "\n",
      "\n",
      "\n",
      "values of capital-gain\n",
      "0        44755\n",
      "15024      513\n",
      "7688       410\n",
      "7298       364\n",
      "99999      244\n",
      "         ...  \n",
      "2387         1\n",
      "22040        1\n",
      "1111         1\n",
      "6612         1\n",
      "1639         1\n",
      "Length: 123, dtype: int64\n",
      "\n",
      "\n",
      "\n",
      "values of capital-loss\n",
      "0       46508\n",
      "1902      304\n",
      "1977      253\n",
      "1887      233\n",
      "2415       72\n",
      "        ...  \n",
      "155         1\n",
      "1870        1\n",
      "2080        1\n",
      "1539        1\n",
      "2201        1\n",
      "Length: 99, dtype: int64\n",
      "\n",
      "\n",
      "\n",
      "values of hours-per-week\n",
      "40    22773\n",
      "50     4242\n",
      "45     2715\n",
      "60     2177\n",
      "35     1934\n",
      "      ...  \n",
      "87        1\n",
      "82        1\n",
      "94        1\n",
      "79        1\n",
      "69        1\n",
      "Length: 96, dtype: int64\n",
      "\n",
      "\n",
      "\n",
      "values of native-country\n",
      "United-States                 43792\n",
      "Mexico                          943\n",
      "?                               856\n",
      "Philippines                     294\n",
      "Germany                         206\n",
      "Puerto-Rico                     184\n",
      "Canada                          182\n",
      "El-Salvador                     155\n",
      "India                           151\n",
      "Cuba                            138\n",
      "England                         127\n",
      "China                           122\n",
      "South                           115\n",
      "Jamaica                         106\n",
      "Italy                           105\n",
      "Dominican-Republic              103\n",
      "Japan                            92\n",
      "Poland                           87\n",
      "Vietnam                          86\n",
      "Guatemala                        86\n",
      "Columbia                         85\n",
      "Haiti                            75\n",
      "Portugal                         67\n",
      "Taiwan                           65\n",
      "Iran                             59\n",
      "Greece                           49\n",
      "Nicaragua                        49\n",
      "Peru                             46\n",
      "Ecuador                          45\n",
      "France                           38\n",
      "Ireland                          37\n",
      "Hong                             30\n",
      "Thailand                         30\n",
      "Cambodia                         28\n",
      "Trinadad&Tobago                  27\n",
      "Outlying-US(Guam-USVI-etc)       23\n",
      "Laos                             23\n",
      "Yugoslavia                       23\n",
      "Scotland                         21\n",
      "Honduras                         20\n",
      "Hungary                          19\n",
      "Holand-Netherlands                1\n",
      "dtype: int64\n",
      "\n",
      "\n",
      "\n",
      "values of income\n",
      "<=50K    37109\n",
      ">50K     11681\n",
      "dtype: int64\n"
     ]
    }
   ],
   "source": [
    "for i in df.columns:\n",
    "    a = df.value_counts(i)\n",
    "    print(f'\\n\\n\\nvalues of {a}')"
   ]
  },
  {
   "cell_type": "markdown",
   "metadata": {
    "id": "8l24wkXEnbIO"
   },
   "source": [
    "so, from the above description <br>\n",
    "**coloumns which have \"?\" or missing values are :** <br>\n",
    "* workclass  _(categorical)_<br>   \n",
    "* occupation  _(categorical)_<br>  \n",
    "* native-country  _(categorical)_<br>\n",
    "\n",
    "**coloumns which have \"0\" or missing values are :** <br>\n",
    "* capital-gain\n",
    "* capital-loss"
   ]
  },
  {
   "cell_type": "markdown",
   "metadata": {
    "id": "LSj3thCtnfJF"
   },
   "source": [
    "### Step-6 Handling missing values of categorical columns"
   ]
  },
  {
   "cell_type": "markdown",
   "metadata": {
    "id": "sO2ZgXyTnf5y"
   },
   "source": [
    "Removing the columns (capital-gain and capital-loss) because more than 90% entries are not filled i.e. zero."
   ]
  },
  {
   "cell_type": "code",
   "execution_count": 11,
   "metadata": {
    "execution": {
     "iopub.execute_input": "2022-12-13T06:31:17.400985Z",
     "iopub.status.busy": "2022-12-13T06:31:17.399854Z",
     "iopub.status.idle": "2022-12-13T06:31:17.441607Z",
     "shell.execute_reply": "2022-12-13T06:31:17.439962Z",
     "shell.execute_reply.started": "2022-12-13T06:31:17.400923Z"
    },
    "id": "TnCDlhtZnYEu"
   },
   "outputs": [
    {
     "data": {
      "text/html": [
       "<div>\n",
       "<style scoped>\n",
       "    .dataframe tbody tr th:only-of-type {\n",
       "        vertical-align: middle;\n",
       "    }\n",
       "\n",
       "    .dataframe tbody tr th {\n",
       "        vertical-align: top;\n",
       "    }\n",
       "\n",
       "    .dataframe thead th {\n",
       "        text-align: right;\n",
       "    }\n",
       "</style>\n",
       "<table border=\"1\" class=\"dataframe\">\n",
       "  <thead>\n",
       "    <tr style=\"text-align: right;\">\n",
       "      <th></th>\n",
       "      <th>age</th>\n",
       "      <th>workclass</th>\n",
       "      <th>fnlwgt</th>\n",
       "      <th>educational-num</th>\n",
       "      <th>marital-status</th>\n",
       "      <th>occupation</th>\n",
       "      <th>relationship</th>\n",
       "      <th>race</th>\n",
       "      <th>gender</th>\n",
       "      <th>capital-gain</th>\n",
       "      <th>capital-loss</th>\n",
       "      <th>hours-per-week</th>\n",
       "      <th>native-country</th>\n",
       "      <th>income</th>\n",
       "    </tr>\n",
       "  </thead>\n",
       "  <tbody>\n",
       "    <tr>\n",
       "      <th>0</th>\n",
       "      <td>25</td>\n",
       "      <td>Private</td>\n",
       "      <td>226802</td>\n",
       "      <td>7</td>\n",
       "      <td>Never-married</td>\n",
       "      <td>Machine-op-inspct</td>\n",
       "      <td>Own-child</td>\n",
       "      <td>Black</td>\n",
       "      <td>Male</td>\n",
       "      <td>0</td>\n",
       "      <td>0</td>\n",
       "      <td>40</td>\n",
       "      <td>United-States</td>\n",
       "      <td>&lt;=50K</td>\n",
       "    </tr>\n",
       "    <tr>\n",
       "      <th>1</th>\n",
       "      <td>38</td>\n",
       "      <td>Private</td>\n",
       "      <td>89814</td>\n",
       "      <td>9</td>\n",
       "      <td>Married-civ-spouse</td>\n",
       "      <td>Farming-fishing</td>\n",
       "      <td>Husband</td>\n",
       "      <td>White</td>\n",
       "      <td>Male</td>\n",
       "      <td>0</td>\n",
       "      <td>0</td>\n",
       "      <td>50</td>\n",
       "      <td>United-States</td>\n",
       "      <td>&lt;=50K</td>\n",
       "    </tr>\n",
       "    <tr>\n",
       "      <th>2</th>\n",
       "      <td>28</td>\n",
       "      <td>Local-gov</td>\n",
       "      <td>336951</td>\n",
       "      <td>12</td>\n",
       "      <td>Married-civ-spouse</td>\n",
       "      <td>Protective-serv</td>\n",
       "      <td>Husband</td>\n",
       "      <td>White</td>\n",
       "      <td>Male</td>\n",
       "      <td>0</td>\n",
       "      <td>0</td>\n",
       "      <td>40</td>\n",
       "      <td>United-States</td>\n",
       "      <td>&gt;50K</td>\n",
       "    </tr>\n",
       "    <tr>\n",
       "      <th>3</th>\n",
       "      <td>44</td>\n",
       "      <td>Private</td>\n",
       "      <td>160323</td>\n",
       "      <td>10</td>\n",
       "      <td>Married-civ-spouse</td>\n",
       "      <td>Machine-op-inspct</td>\n",
       "      <td>Husband</td>\n",
       "      <td>Black</td>\n",
       "      <td>Male</td>\n",
       "      <td>7688</td>\n",
       "      <td>0</td>\n",
       "      <td>40</td>\n",
       "      <td>United-States</td>\n",
       "      <td>&gt;50K</td>\n",
       "    </tr>\n",
       "    <tr>\n",
       "      <th>4</th>\n",
       "      <td>18</td>\n",
       "      <td>?</td>\n",
       "      <td>103497</td>\n",
       "      <td>10</td>\n",
       "      <td>Never-married</td>\n",
       "      <td>?</td>\n",
       "      <td>Own-child</td>\n",
       "      <td>White</td>\n",
       "      <td>Female</td>\n",
       "      <td>0</td>\n",
       "      <td>0</td>\n",
       "      <td>30</td>\n",
       "      <td>United-States</td>\n",
       "      <td>&lt;=50K</td>\n",
       "    </tr>\n",
       "    <tr>\n",
       "      <th>...</th>\n",
       "      <td>...</td>\n",
       "      <td>...</td>\n",
       "      <td>...</td>\n",
       "      <td>...</td>\n",
       "      <td>...</td>\n",
       "      <td>...</td>\n",
       "      <td>...</td>\n",
       "      <td>...</td>\n",
       "      <td>...</td>\n",
       "      <td>...</td>\n",
       "      <td>...</td>\n",
       "      <td>...</td>\n",
       "      <td>...</td>\n",
       "      <td>...</td>\n",
       "    </tr>\n",
       "    <tr>\n",
       "      <th>48837</th>\n",
       "      <td>27</td>\n",
       "      <td>Private</td>\n",
       "      <td>257302</td>\n",
       "      <td>12</td>\n",
       "      <td>Married-civ-spouse</td>\n",
       "      <td>Tech-support</td>\n",
       "      <td>Wife</td>\n",
       "      <td>White</td>\n",
       "      <td>Female</td>\n",
       "      <td>0</td>\n",
       "      <td>0</td>\n",
       "      <td>38</td>\n",
       "      <td>United-States</td>\n",
       "      <td>&lt;=50K</td>\n",
       "    </tr>\n",
       "    <tr>\n",
       "      <th>48838</th>\n",
       "      <td>40</td>\n",
       "      <td>Private</td>\n",
       "      <td>154374</td>\n",
       "      <td>9</td>\n",
       "      <td>Married-civ-spouse</td>\n",
       "      <td>Machine-op-inspct</td>\n",
       "      <td>Husband</td>\n",
       "      <td>White</td>\n",
       "      <td>Male</td>\n",
       "      <td>0</td>\n",
       "      <td>0</td>\n",
       "      <td>40</td>\n",
       "      <td>United-States</td>\n",
       "      <td>&gt;50K</td>\n",
       "    </tr>\n",
       "    <tr>\n",
       "      <th>48839</th>\n",
       "      <td>58</td>\n",
       "      <td>Private</td>\n",
       "      <td>151910</td>\n",
       "      <td>9</td>\n",
       "      <td>Widowed</td>\n",
       "      <td>Adm-clerical</td>\n",
       "      <td>Unmarried</td>\n",
       "      <td>White</td>\n",
       "      <td>Female</td>\n",
       "      <td>0</td>\n",
       "      <td>0</td>\n",
       "      <td>40</td>\n",
       "      <td>United-States</td>\n",
       "      <td>&lt;=50K</td>\n",
       "    </tr>\n",
       "    <tr>\n",
       "      <th>48840</th>\n",
       "      <td>22</td>\n",
       "      <td>Private</td>\n",
       "      <td>201490</td>\n",
       "      <td>9</td>\n",
       "      <td>Never-married</td>\n",
       "      <td>Adm-clerical</td>\n",
       "      <td>Own-child</td>\n",
       "      <td>White</td>\n",
       "      <td>Male</td>\n",
       "      <td>0</td>\n",
       "      <td>0</td>\n",
       "      <td>20</td>\n",
       "      <td>United-States</td>\n",
       "      <td>&lt;=50K</td>\n",
       "    </tr>\n",
       "    <tr>\n",
       "      <th>48841</th>\n",
       "      <td>52</td>\n",
       "      <td>Self-emp-inc</td>\n",
       "      <td>287927</td>\n",
       "      <td>9</td>\n",
       "      <td>Married-civ-spouse</td>\n",
       "      <td>Exec-managerial</td>\n",
       "      <td>Wife</td>\n",
       "      <td>White</td>\n",
       "      <td>Female</td>\n",
       "      <td>15024</td>\n",
       "      <td>0</td>\n",
       "      <td>40</td>\n",
       "      <td>United-States</td>\n",
       "      <td>&gt;50K</td>\n",
       "    </tr>\n",
       "  </tbody>\n",
       "</table>\n",
       "<p>48790 rows × 14 columns</p>\n",
       "</div>"
      ],
      "text/plain": [
       "       age     workclass  fnlwgt  educational-num      marital-status  \\\n",
       "0       25       Private  226802                7       Never-married   \n",
       "1       38       Private   89814                9  Married-civ-spouse   \n",
       "2       28     Local-gov  336951               12  Married-civ-spouse   \n",
       "3       44       Private  160323               10  Married-civ-spouse   \n",
       "4       18             ?  103497               10       Never-married   \n",
       "...    ...           ...     ...              ...                 ...   \n",
       "48837   27       Private  257302               12  Married-civ-spouse   \n",
       "48838   40       Private  154374                9  Married-civ-spouse   \n",
       "48839   58       Private  151910                9             Widowed   \n",
       "48840   22       Private  201490                9       Never-married   \n",
       "48841   52  Self-emp-inc  287927                9  Married-civ-spouse   \n",
       "\n",
       "              occupation relationship   race  gender  capital-gain  \\\n",
       "0      Machine-op-inspct    Own-child  Black    Male             0   \n",
       "1        Farming-fishing      Husband  White    Male             0   \n",
       "2        Protective-serv      Husband  White    Male             0   \n",
       "3      Machine-op-inspct      Husband  Black    Male          7688   \n",
       "4                      ?    Own-child  White  Female             0   \n",
       "...                  ...          ...    ...     ...           ...   \n",
       "48837       Tech-support         Wife  White  Female             0   \n",
       "48838  Machine-op-inspct      Husband  White    Male             0   \n",
       "48839       Adm-clerical    Unmarried  White  Female             0   \n",
       "48840       Adm-clerical    Own-child  White    Male             0   \n",
       "48841    Exec-managerial         Wife  White  Female         15024   \n",
       "\n",
       "       capital-loss  hours-per-week native-country income  \n",
       "0                 0              40  United-States  <=50K  \n",
       "1                 0              50  United-States  <=50K  \n",
       "2                 0              40  United-States   >50K  \n",
       "3                 0              40  United-States   >50K  \n",
       "4                 0              30  United-States  <=50K  \n",
       "...             ...             ...            ...    ...  \n",
       "48837             0              38  United-States  <=50K  \n",
       "48838             0              40  United-States   >50K  \n",
       "48839             0              40  United-States  <=50K  \n",
       "48840             0              20  United-States  <=50K  \n",
       "48841             0              40  United-States   >50K  \n",
       "\n",
       "[48790 rows x 14 columns]"
      ]
     },
     "execution_count": 11,
     "metadata": {},
     "output_type": "execute_result"
    }
   ],
   "source": [
    "df = df.drop(['education'],axis=1)\n",
    "df"
   ]
  },
  {
   "cell_type": "markdown",
   "metadata": {
    "id": "_j04GuhhnqqX"
   },
   "source": [
    "* **replacing '?' with NaN.**"
   ]
  },
  {
   "cell_type": "code",
   "execution_count": 12,
   "metadata": {
    "execution": {
     "iopub.execute_input": "2022-12-13T06:31:17.445901Z",
     "iopub.status.busy": "2022-12-13T06:31:17.445435Z",
     "iopub.status.idle": "2022-12-13T06:31:17.488862Z",
     "shell.execute_reply": "2022-12-13T06:31:17.487206Z",
     "shell.execute_reply.started": "2022-12-13T06:31:17.445864Z"
    },
    "id": "96gueJy5nn7n"
   },
   "outputs": [
    {
     "data": {
      "text/plain": [
       "age                   0\n",
       "workclass          2795\n",
       "fnlwgt                0\n",
       "educational-num       0\n",
       "marital-status        0\n",
       "occupation         2805\n",
       "relationship          0\n",
       "race                  0\n",
       "gender                0\n",
       "capital-gain          0\n",
       "capital-loss          0\n",
       "hours-per-week        0\n",
       "native-country      856\n",
       "income                0\n",
       "dtype: int64"
      ]
     },
     "execution_count": 12,
     "metadata": {},
     "output_type": "execute_result"
    }
   ],
   "source": [
    "df.replace('?',np.nan,inplace=True)\n",
    "df.isnull().sum()"
   ]
  },
  {
   "cell_type": "markdown",
   "metadata": {
    "id": "E0Z2Wmi1nvHR"
   },
   "source": [
    "* **Performing SimpleImputer.**"
   ]
  },
  {
   "cell_type": "code",
   "execution_count": 13,
   "metadata": {
    "execution": {
     "iopub.execute_input": "2022-12-13T06:31:17.490979Z",
     "iopub.status.busy": "2022-12-13T06:31:17.490444Z",
     "iopub.status.idle": "2022-12-13T06:31:17.503418Z",
     "shell.execute_reply": "2022-12-13T06:31:17.501724Z",
     "shell.execute_reply.started": "2022-12-13T06:31:17.490942Z"
    },
    "id": "HA_5kDP2nswu"
   },
   "outputs": [
    {
     "data": {
      "text/plain": [
       "SimpleImputer(strategy='most_frequent')"
      ]
     },
     "execution_count": 13,
     "metadata": {},
     "output_type": "execute_result"
    }
   ],
   "source": [
    "imputer = SimpleImputer(strategy='most_frequent')\n",
    "imputer"
   ]
  },
  {
   "cell_type": "code",
   "execution_count": 14,
   "metadata": {
    "execution": {
     "iopub.execute_input": "2022-12-13T06:31:17.507659Z",
     "iopub.status.busy": "2022-12-13T06:31:17.507158Z",
     "iopub.status.idle": "2022-12-13T06:31:17.729214Z",
     "shell.execute_reply": "2022-12-13T06:31:17.727443Z",
     "shell.execute_reply.started": "2022-12-13T06:31:17.507620Z"
    },
    "id": "nUx5LWsAnxBt"
   },
   "outputs": [],
   "source": [
    "df['workclass'] = imputer.fit_transform(df[['workclass']])\n",
    "\n",
    "df['occupation'] = imputer.fit_transform(df[['occupation']])\n",
    "\n",
    "df['native-country'] = imputer.fit_transform(df[['native-country']])"
   ]
  },
  {
   "cell_type": "code",
   "execution_count": 15,
   "metadata": {
    "execution": {
     "iopub.execute_input": "2022-12-13T06:31:17.731304Z",
     "iopub.status.busy": "2022-12-13T06:31:17.730926Z",
     "iopub.status.idle": "2022-12-13T06:31:17.737418Z",
     "shell.execute_reply": "2022-12-13T06:31:17.735803Z",
     "shell.execute_reply.started": "2022-12-13T06:31:17.731272Z"
    },
    "id": "wMbLVmoanzH1"
   },
   "outputs": [],
   "source": [
    "#df.isna().sum()"
   ]
  },
  {
   "cell_type": "markdown",
   "metadata": {
    "id": "VwN56KUKn3S8"
   },
   "source": [
    "### Step-7 Performing the column_transformations :"
   ]
  },
  {
   "cell_type": "code",
   "execution_count": 16,
   "metadata": {
    "execution": {
     "iopub.execute_input": "2022-12-13T06:31:17.740216Z",
     "iopub.status.busy": "2022-12-13T06:31:17.739554Z",
     "iopub.status.idle": "2022-12-13T06:31:17.768065Z",
     "shell.execute_reply": "2022-12-13T06:31:17.766446Z",
     "shell.execute_reply.started": "2022-12-13T06:31:17.740158Z"
    },
    "id": "IvzJOE3On5oV"
   },
   "outputs": [],
   "source": [
    "encode = preprocessing.LabelEncoder()\n",
    "df['income'] = encode.fit_transform(df['income'])"
   ]
  },
  {
   "cell_type": "code",
   "execution_count": 17,
   "metadata": {},
   "outputs": [
    {
     "name": "stdout",
     "output_type": "stream",
     "text": [
      "<class 'pandas.core.frame.DataFrame'>\n",
      "Int64Index: 48790 entries, 0 to 48841\n",
      "Data columns (total 14 columns):\n",
      " #   Column           Non-Null Count  Dtype \n",
      "---  ------           --------------  ----- \n",
      " 0   age              48790 non-null  int64 \n",
      " 1   workclass        48790 non-null  object\n",
      " 2   fnlwgt           48790 non-null  int64 \n",
      " 3   educational-num  48790 non-null  int64 \n",
      " 4   marital-status   48790 non-null  object\n",
      " 5   occupation       48790 non-null  object\n",
      " 6   relationship     48790 non-null  object\n",
      " 7   race             48790 non-null  object\n",
      " 8   gender           48790 non-null  object\n",
      " 9   capital-gain     48790 non-null  int64 \n",
      " 10  capital-loss     48790 non-null  int64 \n",
      " 11  hours-per-week   48790 non-null  int64 \n",
      " 12  native-country   48790 non-null  object\n",
      " 13  income           48790 non-null  int32 \n",
      "dtypes: int32(1), int64(6), object(7)\n",
      "memory usage: 5.4+ MB\n"
     ]
    }
   ],
   "source": [
    "df.info()"
   ]
  },
  {
   "cell_type": "code",
   "execution_count": 18,
   "metadata": {},
   "outputs": [
    {
     "data": {
      "text/html": [
       "<div>\n",
       "<style scoped>\n",
       "    .dataframe tbody tr th:only-of-type {\n",
       "        vertical-align: middle;\n",
       "    }\n",
       "\n",
       "    .dataframe tbody tr th {\n",
       "        vertical-align: top;\n",
       "    }\n",
       "\n",
       "    .dataframe thead th {\n",
       "        text-align: right;\n",
       "    }\n",
       "</style>\n",
       "<table border=\"1\" class=\"dataframe\">\n",
       "  <thead>\n",
       "    <tr style=\"text-align: right;\">\n",
       "      <th></th>\n",
       "      <th>age</th>\n",
       "      <th>fnlwgt</th>\n",
       "      <th>educational-num</th>\n",
       "      <th>capital-gain</th>\n",
       "      <th>capital-loss</th>\n",
       "      <th>hours-per-week</th>\n",
       "      <th>income</th>\n",
       "    </tr>\n",
       "  </thead>\n",
       "  <tbody>\n",
       "    <tr>\n",
       "      <th>count</th>\n",
       "      <td>48790.000000</td>\n",
       "      <td>4.879000e+04</td>\n",
       "      <td>48790.000000</td>\n",
       "      <td>48790.000000</td>\n",
       "      <td>48790.000000</td>\n",
       "      <td>48790.000000</td>\n",
       "      <td>48790.000000</td>\n",
       "    </tr>\n",
       "    <tr>\n",
       "      <th>mean</th>\n",
       "      <td>38.652798</td>\n",
       "      <td>1.896690e+05</td>\n",
       "      <td>10.078807</td>\n",
       "      <td>1080.217688</td>\n",
       "      <td>87.595573</td>\n",
       "      <td>40.425886</td>\n",
       "      <td>0.239414</td>\n",
       "    </tr>\n",
       "    <tr>\n",
       "      <th>std</th>\n",
       "      <td>13.708493</td>\n",
       "      <td>1.056172e+05</td>\n",
       "      <td>2.570046</td>\n",
       "      <td>7455.905921</td>\n",
       "      <td>403.209129</td>\n",
       "      <td>12.392729</td>\n",
       "      <td>0.426730</td>\n",
       "    </tr>\n",
       "    <tr>\n",
       "      <th>min</th>\n",
       "      <td>17.000000</td>\n",
       "      <td>1.228500e+04</td>\n",
       "      <td>1.000000</td>\n",
       "      <td>0.000000</td>\n",
       "      <td>0.000000</td>\n",
       "      <td>1.000000</td>\n",
       "      <td>0.000000</td>\n",
       "    </tr>\n",
       "    <tr>\n",
       "      <th>25%</th>\n",
       "      <td>28.000000</td>\n",
       "      <td>1.175550e+05</td>\n",
       "      <td>9.000000</td>\n",
       "      <td>0.000000</td>\n",
       "      <td>0.000000</td>\n",
       "      <td>40.000000</td>\n",
       "      <td>0.000000</td>\n",
       "    </tr>\n",
       "    <tr>\n",
       "      <th>50%</th>\n",
       "      <td>37.000000</td>\n",
       "      <td>1.781385e+05</td>\n",
       "      <td>10.000000</td>\n",
       "      <td>0.000000</td>\n",
       "      <td>0.000000</td>\n",
       "      <td>40.000000</td>\n",
       "      <td>0.000000</td>\n",
       "    </tr>\n",
       "    <tr>\n",
       "      <th>75%</th>\n",
       "      <td>48.000000</td>\n",
       "      <td>2.376062e+05</td>\n",
       "      <td>12.000000</td>\n",
       "      <td>0.000000</td>\n",
       "      <td>0.000000</td>\n",
       "      <td>45.000000</td>\n",
       "      <td>0.000000</td>\n",
       "    </tr>\n",
       "    <tr>\n",
       "      <th>max</th>\n",
       "      <td>90.000000</td>\n",
       "      <td>1.490400e+06</td>\n",
       "      <td>16.000000</td>\n",
       "      <td>99999.000000</td>\n",
       "      <td>4356.000000</td>\n",
       "      <td>99.000000</td>\n",
       "      <td>1.000000</td>\n",
       "    </tr>\n",
       "  </tbody>\n",
       "</table>\n",
       "</div>"
      ],
      "text/plain": [
       "                age        fnlwgt  educational-num  capital-gain  \\\n",
       "count  48790.000000  4.879000e+04     48790.000000  48790.000000   \n",
       "mean      38.652798  1.896690e+05        10.078807   1080.217688   \n",
       "std       13.708493  1.056172e+05         2.570046   7455.905921   \n",
       "min       17.000000  1.228500e+04         1.000000      0.000000   \n",
       "25%       28.000000  1.175550e+05         9.000000      0.000000   \n",
       "50%       37.000000  1.781385e+05        10.000000      0.000000   \n",
       "75%       48.000000  2.376062e+05        12.000000      0.000000   \n",
       "max       90.000000  1.490400e+06        16.000000  99999.000000   \n",
       "\n",
       "       capital-loss  hours-per-week        income  \n",
       "count  48790.000000    48790.000000  48790.000000  \n",
       "mean      87.595573       40.425886      0.239414  \n",
       "std      403.209129       12.392729      0.426730  \n",
       "min        0.000000        1.000000      0.000000  \n",
       "25%        0.000000       40.000000      0.000000  \n",
       "50%        0.000000       40.000000      0.000000  \n",
       "75%        0.000000       45.000000      0.000000  \n",
       "max     4356.000000       99.000000      1.000000  "
      ]
     },
     "execution_count": 18,
     "metadata": {},
     "output_type": "execute_result"
    }
   ],
   "source": [
    "df.describe()"
   ]
  },
  {
   "cell_type": "code",
   "execution_count": 19,
   "metadata": {},
   "outputs": [
    {
     "data": {
      "text/plain": [
       "array([0, 1])"
      ]
     },
     "execution_count": 19,
     "metadata": {},
     "output_type": "execute_result"
    }
   ],
   "source": [
    "df.income.unique()"
   ]
  },
  {
   "cell_type": "code",
   "execution_count": 20,
   "metadata": {},
   "outputs": [
    {
     "name": "stderr",
     "output_type": "stream",
     "text": [
      "C:\\Users\\shiva\\anaconda3\\lib\\site-packages\\seaborn\\_decorators.py:36: FutureWarning: Pass the following variable as a keyword arg: x. From version 0.12, the only valid positional argument will be `data`, and passing other arguments without an explicit keyword will result in an error or misinterpretation.\n",
      "  warnings.warn(\n"
     ]
    },
    {
     "data": {
      "text/plain": [
       "<AxesSubplot:xlabel='income', ylabel='count'>"
      ]
     },
     "execution_count": 20,
     "metadata": {},
     "output_type": "execute_result"
    },
    {
     "data": {
      "image/png": "[encoded data removed]",
      "text/plain": [
       "<Figure size 640x480 with 1 Axes>"
      ]
     },
     "metadata": {},
     "output_type": "display_data"
    }
   ],
   "source": [
    "sns.countplot(df.income)"
   ]
  },
  {
   "cell_type": "markdown",
   "metadata": {},
   "source": [
    "Where ' 1 means income>=50k ' & ' 0 means income<50k '"
   ]
  },
  {
   "cell_type": "code",
   "execution_count": 21,
   "metadata": {},
   "outputs": [
    {
     "data": {
      "text/plain": [
       "<AxesSubplot:>"
      ]
     },
     "execution_count": 21,
     "metadata": {},
     "output_type": "execute_result"
    },
    {
     "data": {
      "image/png": "[encoded data removed]",
      "text/plain": [
       "<Figure size 700x600 with 2 Axes>"
      ]
     },
     "metadata": {},
     "output_type": "display_data"
    }
   ],
   "source": [
    "plt.figure(figsize=(7,6))\n",
    "sns.heatmap(df.corr(),annot=True,cmap='Blues')"
   ]
  },
  {
   "cell_type": "code",
   "execution_count": 22,
   "metadata": {
    "execution": {
     "iopub.execute_input": "2022-12-13T06:31:18.499578Z",
     "iopub.status.busy": "2022-12-13T06:31:18.499110Z",
     "iopub.status.idle": "2022-12-13T06:31:18.514171Z",
     "shell.execute_reply": "2022-12-13T06:31:18.512839Z",
     "shell.execute_reply.started": "2022-12-13T06:31:18.499543Z"
    },
    "id": "YscsQ6scn7j1"
   },
   "outputs": [],
   "source": [
    "x = df.drop('income',axis=1)\n",
    "y = df['income']"
   ]
  },
  {
   "cell_type": "code",
   "execution_count": 23,
   "metadata": {
    "execution": {
     "iopub.execute_input": "2022-12-13T06:31:18.733137Z",
     "iopub.status.busy": "2022-12-13T06:31:18.731593Z",
     "iopub.status.idle": "2022-12-13T06:31:18.762983Z",
     "shell.execute_reply": "2022-12-13T06:31:18.761183Z",
     "shell.execute_reply.started": "2022-12-13T06:31:18.733091Z"
    },
    "id": "nqqhs9Grn9Ll"
   },
   "outputs": [],
   "source": [
    "x_train, x_test, y_train, y_test = train_test_split(x, y, test_size=0.20, random_state=0)"
   ]
  },
  {
   "cell_type": "markdown",
   "metadata": {},
   "source": [
    "--------------------------------------"
   ]
  },
  {
   "cell_type": "code",
   "execution_count": 24,
   "metadata": {
    "execution": {
     "iopub.execute_input": "2022-12-13T06:31:19.753885Z",
     "iopub.status.busy": "2022-12-13T06:31:19.753356Z",
     "iopub.status.idle": "2022-12-13T06:31:21.736524Z",
     "shell.execute_reply": "2022-12-13T06:31:21.734729Z",
     "shell.execute_reply.started": "2022-12-13T06:31:19.753847Z"
    }
   },
   "outputs": [],
   "source": [
    "# import lazypredict\n",
    "# from lazypredict.Supervised import LazyClassifier\n",
    "# clf = LazyClassifier()\n",
    "# clf"
   ]
  },
  {
   "cell_type": "code",
   "execution_count": 25,
   "metadata": {
    "execution": {
     "iopub.execute_input": "2022-12-13T06:31:21.739478Z",
     "iopub.status.busy": "2022-12-13T06:31:21.739020Z"
    }
   },
   "outputs": [],
   "source": [
    "# models,predicitons = clf.fit(x_train,x_test,y_train,y_test)"
   ]
  },
  {
   "cell_type": "code",
   "execution_count": 26,
   "metadata": {},
   "outputs": [],
   "source": [
    "# models"
   ]
  },
  {
   "cell_type": "markdown",
   "metadata": {},
   "source": [
    "-------------------------------"
   ]
  },
  {
   "cell_type": "code",
   "execution_count": 27,
   "metadata": {
    "execution": {
     "iopub.execute_input": "2022-12-13T06:13:46.182008Z",
     "iopub.status.busy": "2022-12-13T06:13:46.181522Z",
     "iopub.status.idle": "2022-12-13T06:13:46.199302Z",
     "shell.execute_reply": "2022-12-13T06:13:46.197898Z",
     "shell.execute_reply.started": "2022-12-13T06:13:46.181970Z"
    },
    "id": "V5btNqzXoDIO",
    "scrolled": true
   },
   "outputs": [
    {
     "data": {
      "text/plain": [
       "ColumnTransformer(remainder='passthrough',\n",
       "                  transformers=[('trs1', SimpleImputer(), [0, 2, 11]),\n",
       "                                ('trs2', OrdinalEncoder(), [1, 5]),\n",
       "                                ('trs3', OneHotEncoder(), [4, 6, 7, 8, 12])])"
      ]
     },
     "execution_count": 27,
     "metadata": {},
     "output_type": "execute_result"
    }
   ],
   "source": [
    "transformer1 = ColumnTransformer(transformers=[\n",
    "    ('trs1',SimpleImputer(),[0,2,11]),\n",
    "    ('trs2',OrdinalEncoder(),[1,5]),\n",
    "    ('trs3',OneHotEncoder(),[4,6,7,8,12])],\n",
    "    remainder='passthrough')\n",
    "transformer1"
   ]
  },
  {
   "cell_type": "code",
   "execution_count": 28,
   "metadata": {},
   "outputs": [
    {
     "data": {
      "text/plain": [
       "LGBMClassifier()"
      ]
     },
     "execution_count": 28,
     "metadata": {},
     "output_type": "execute_result"
    }
   ],
   "source": [
    "import lightgbm as lgb\n",
    "from lightgbm import LGBMClassifier\n",
    "\n",
    "transformer3 = LGBMClassifier()\n",
    "transformer3"
   ]
  },
  {
   "cell_type": "code",
   "execution_count": 29,
   "metadata": {
    "execution": {
     "iopub.execute_input": "2022-12-13T05:41:36.342593Z",
     "iopub.status.busy": "2022-12-13T05:41:36.342218Z",
     "iopub.status.idle": "2022-12-13T05:41:36.351203Z",
     "shell.execute_reply": "2022-12-13T05:41:36.349887Z",
     "shell.execute_reply.started": "2022-12-13T05:41:36.342563Z"
    },
    "id": "dO_vJPYOoOS1"
   },
   "outputs": [
    {
     "data": {
      "text/plain": [
       "RandomForestClassifier(class_weight='balanced')"
      ]
     },
     "execution_count": 29,
     "metadata": {},
     "output_type": "execute_result"
    }
   ],
   "source": [
    "transformer2 = RandomForestClassifier(class_weight='balanced')\n",
    "transformer2"
   ]
  },
  {
   "cell_type": "markdown",
   "metadata": {},
   "source": [
    "### Step-9 Creating Pipeline"
   ]
  },
  {
   "cell_type": "code",
   "execution_count": 30,
   "metadata": {
    "execution": {
     "iopub.execute_input": "2022-12-13T05:41:36.805417Z",
     "iopub.status.busy": "2022-12-13T05:41:36.805044Z",
     "iopub.status.idle": "2022-12-13T05:41:36.824579Z",
     "shell.execute_reply": "2022-12-13T05:41:36.822830Z",
     "shell.execute_reply.started": "2022-12-13T05:41:36.805387Z"
    }
   },
   "outputs": [
    {
     "data": {
      "text/plain": [
       "Pipeline(steps=[('transformer1',\n",
       "                 ColumnTransformer(remainder='passthrough',\n",
       "                                   transformers=[('trs1', SimpleImputer(),\n",
       "                                                  [0, 2, 11]),\n",
       "                                                 ('trs2', OrdinalEncoder(),\n",
       "                                                  [1, 5]),\n",
       "                                                 ('trs3', OneHotEncoder(),\n",
       "                                                  [4, 6, 7, 8, 12])])),\n",
       "                ('transformer3', LGBMClassifier())])"
      ]
     },
     "execution_count": 30,
     "metadata": {},
     "output_type": "execute_result"
    }
   ],
   "source": [
    "pipe = Pipeline([\n",
    "    ('transformer1',transformer1),\n",
    "    ('transformer3',transformer3)\n",
    "    ])\n",
    "pipe"
   ]
  },
  {
   "cell_type": "code",
   "execution_count": 31,
   "metadata": {
    "execution": {
     "iopub.execute_input": "2022-12-13T05:41:37.109359Z",
     "iopub.status.busy": "2022-12-13T05:41:37.108980Z",
     "iopub.status.idle": "2022-12-13T05:41:37.114853Z",
     "shell.execute_reply": "2022-12-13T05:41:37.113567Z",
     "shell.execute_reply.started": "2022-12-13T05:41:37.109330Z"
    }
   },
   "outputs": [],
   "source": [
    "#for display the pipeline\n",
    "from sklearn import set_config\n",
    "set_config(display = 'diagram')"
   ]
  },
  {
   "cell_type": "markdown",
   "metadata": {
    "execution": {
     "iopub.execute_input": "2022-12-09T17:42:50.670400Z",
     "iopub.status.busy": "2022-12-09T17:42:50.670058Z",
     "iopub.status.idle": "2022-12-09T17:42:50.674662Z",
     "shell.execute_reply": "2022-12-09T17:42:50.673667Z",
     "shell.execute_reply.started": "2022-12-09T17:42:50.670374Z"
    }
   },
   "source": [
    "### Step-10 Fitting the Pipeline"
   ]
  },
  {
   "cell_type": "code",
   "execution_count": 32,
   "metadata": {
    "execution": {
     "iopub.execute_input": "2022-12-13T05:41:37.958191Z",
     "iopub.status.busy": "2022-12-13T05:41:37.957788Z",
     "iopub.status.idle": "2022-12-13T05:42:14.863413Z",
     "shell.execute_reply": "2022-12-13T05:42:14.862136Z",
     "shell.execute_reply.started": "2022-12-13T05:41:37.958157Z"
    }
   },
   "outputs": [
    {
     "data": {
      "text/html": [
       "<style>#sk-c0e4d20c-d34d-4458-9307-c488876803f1 {color: black;background-color: white;}#sk-c0e4d20c-d34d-4458-9307-c488876803f1 pre{padding: 0;}#sk-c0e4d20c-d34d-4458-9307-c488876803f1 div.sk-toggleable {background-color: white;}#sk-c0e4d20c-d34d-4458-9307-c488876803f1 label.sk-toggleable__label {cursor: pointer;display: block;width: 100%;margin-bottom: 0;padding: 0.3em;box-sizing: border-box;text-align: center;}#sk-c0e4d20c-d34d-4458-9307-c488876803f1 label.sk-toggleable__label-arrow:before {content: \"▸\";float: left;margin-right: 0.25em;color: #696969;}#sk-c0e4d20c-d34d-4458-9307-c488876803f1 label.sk-toggleable__label-arrow:hover:before {color: black;}#sk-c0e4d20c-d34d-4458-9307-c488876803f1 div.sk-estimator:hover label.sk-toggleable__label-arrow:before {color: black;}#sk-c0e4d20c-d34d-4458-9307-c488876803f1 div.sk-toggleable__content {max-height: 0;max-width: 0;overflow: hidden;text-align: left;background-color: #f0f8ff;}#sk-c0e4d20c-d34d-4458-9307-c488876803f1 div.sk-toggleable__content pre {margin: 0.2em;color: black;border-radius: 0.25em;background-color: #f0f8ff;}#sk-c0e4d20c-d34d-4458-9307-c488876803f1 input.sk-toggleable__control:checked~div.sk-toggleable__content {max-height: 200px;max-width: 100%;overflow: auto;}#sk-c0e4d20c-d34d-4458-9307-c488876803f1 input.sk-toggleable__control:checked~label.sk-toggleable__label-arrow:before {content: \"▾\";}#sk-c0e4d20c-d34d-4458-9307-c488876803f1 div.sk-estimator input.sk-toggleable__control:checked~label.sk-toggleable__label {background-color: #d4ebff;}#sk-c0e4d20c-d34d-4458-9307-c488876803f1 div.sk-label input.sk-toggleable__control:checked~label.sk-toggleable__label {background-color: #d4ebff;}#sk-c0e4d20c-d34d-4458-9307-c488876803f1 input.sk-hidden--visually {border: 0;clip: rect(1px 1px 1px 1px);clip: rect(1px, 1px, 1px, 1px);height: 1px;margin: -1px;overflow: hidden;padding: 0;position: absolute;width: 1px;}#sk-c0e4d20c-d34d-4458-9307-c488876803f1 div.sk-estimator {font-family: monospace;background-color: #f0f8ff;border: 1px dotted black;border-radius: 0.25em;box-sizing: border-box;margin-bottom: 0.5em;}#sk-c0e4d20c-d34d-4458-9307-c488876803f1 div.sk-estimator:hover {background-color: #d4ebff;}#sk-c0e4d20c-d34d-4458-9307-c488876803f1 div.sk-parallel-item::after {content: \"\";width: 100%;border-bottom: 1px solid gray;flex-grow: 1;}#sk-c0e4d20c-d34d-4458-9307-c488876803f1 div.sk-label:hover label.sk-toggleable__label {background-color: #d4ebff;}#sk-c0e4d20c-d34d-4458-9307-c488876803f1 div.sk-serial::before {content: \"\";position: absolute;border-left: 1px solid gray;box-sizing: border-box;top: 2em;bottom: 0;left: 50%;}#sk-c0e4d20c-d34d-4458-9307-c488876803f1 div.sk-serial {display: flex;flex-direction: column;align-items: center;background-color: white;padding-right: 0.2em;padding-left: 0.2em;}#sk-c0e4d20c-d34d-4458-9307-c488876803f1 div.sk-item {z-index: 1;}#sk-c0e4d20c-d34d-4458-9307-c488876803f1 div.sk-parallel {display: flex;align-items: stretch;justify-content: center;background-color: white;}#sk-c0e4d20c-d34d-4458-9307-c488876803f1 div.sk-parallel::before {content: \"\";position: absolute;border-left: 1px solid gray;box-sizing: border-box;top: 2em;bottom: 0;left: 50%;}#sk-c0e4d20c-d34d-4458-9307-c488876803f1 div.sk-parallel-item {display: flex;flex-direction: column;position: relative;background-color: white;}#sk-c0e4d20c-d34d-4458-9307-c488876803f1 div.sk-parallel-item:first-child::after {align-self: flex-end;width: 50%;}#sk-c0e4d20c-d34d-4458-9307-c488876803f1 div.sk-parallel-item:last-child::after {align-self: flex-start;width: 50%;}#sk-c0e4d20c-d34d-4458-9307-c488876803f1 div.sk-parallel-item:only-child::after {width: 0;}#sk-c0e4d20c-d34d-4458-9307-c488876803f1 div.sk-dashed-wrapped {border: 1px dashed gray;margin: 0 0.4em 0.5em 0.4em;box-sizing: border-box;padding-bottom: 0.4em;background-color: white;position: relative;}#sk-c0e4d20c-d34d-4458-9307-c488876803f1 div.sk-label label {font-family: monospace;font-weight: bold;background-color: white;display: inline-block;line-height: 1.2em;}#sk-c0e4d20c-d34d-4458-9307-c488876803f1 div.sk-label-container {position: relative;z-index: 2;text-align: center;}#sk-c0e4d20c-d34d-4458-9307-c488876803f1 div.sk-container {/* jupyter's `normalize.less` sets `[hidden] { display: none; }` but bootstrap.min.css set `[hidden] { display: none !important; }` so we also need the `!important` here to be able to override the default hidden behavior on the sphinx rendered scikit-learn.org. See: https://github.com/scikit-learn/scikit-learn/issues/21755 */display: inline-block !important;position: relative;}#sk-c0e4d20c-d34d-4458-9307-c488876803f1 div.sk-text-repr-fallback {display: none;}</style><div id=\"sk-c0e4d20c-d34d-4458-9307-c488876803f1\" class=\"sk-top-container\"><div class=\"sk-text-repr-fallback\"><pre>Pipeline(steps=[(&#x27;transformer1&#x27;,\n",
       "                 ColumnTransformer(remainder=&#x27;passthrough&#x27;,\n",
       "                                   transformers=[(&#x27;trs1&#x27;, SimpleImputer(),\n",
       "                                                  [0, 2, 11]),\n",
       "                                                 (&#x27;trs2&#x27;, OrdinalEncoder(),\n",
       "                                                  [1, 5]),\n",
       "                                                 (&#x27;trs3&#x27;, OneHotEncoder(),\n",
       "                                                  [4, 6, 7, 8, 12])])),\n",
       "                (&#x27;transformer3&#x27;, LGBMClassifier())])</pre><b>Please rerun this cell to show the HTML repr or trust the notebook.</b></div><div class=\"sk-container\" hidden><div class=\"sk-item sk-dashed-wrapped\"><div class=\"sk-label-container\"><div class=\"sk-label sk-toggleable\"><input class=\"sk-toggleable__control sk-hidden--visually\" id=\"208e5499-acc1-4962-92f1-3af94dd728bb\" type=\"checkbox\" ><label for=\"208e5499-acc1-4962-92f1-3af94dd728bb\" class=\"sk-toggleable__label sk-toggleable__label-arrow\">Pipeline</label><div class=\"sk-toggleable__content\"><pre>Pipeline(steps=[(&#x27;transformer1&#x27;,\n",
       "                 ColumnTransformer(remainder=&#x27;passthrough&#x27;,\n",
       "                                   transformers=[(&#x27;trs1&#x27;, SimpleImputer(),\n",
       "                                                  [0, 2, 11]),\n",
       "                                                 (&#x27;trs2&#x27;, OrdinalEncoder(),\n",
       "                                                  [1, 5]),\n",
       "                                                 (&#x27;trs3&#x27;, OneHotEncoder(),\n",
       "                                                  [4, 6, 7, 8, 12])])),\n",
       "                (&#x27;transformer3&#x27;, LGBMClassifier())])</pre></div></div></div><div class=\"sk-serial\"><div class=\"sk-item sk-dashed-wrapped\"><div class=\"sk-label-container\"><div class=\"sk-label sk-toggleable\"><input class=\"sk-toggleable__control sk-hidden--visually\" id=\"ff6c5950-57d2-4424-85b8-b2dfdf6b346a\" type=\"checkbox\" ><label for=\"ff6c5950-57d2-4424-85b8-b2dfdf6b346a\" class=\"sk-toggleable__label sk-toggleable__label-arrow\">transformer1: ColumnTransformer</label><div class=\"sk-toggleable__content\"><pre>ColumnTransformer(remainder=&#x27;passthrough&#x27;,\n",
       "                  transformers=[(&#x27;trs1&#x27;, SimpleImputer(), [0, 2, 11]),\n",
       "                                (&#x27;trs2&#x27;, OrdinalEncoder(), [1, 5]),\n",
       "                                (&#x27;trs3&#x27;, OneHotEncoder(), [4, 6, 7, 8, 12])])</pre></div></div></div><div class=\"sk-parallel\"><div class=\"sk-parallel-item\"><div class=\"sk-item\"><div class=\"sk-label-container\"><div class=\"sk-label sk-toggleable\"><input class=\"sk-toggleable__control sk-hidden--visually\" id=\"b3391c79-6352-4fe1-a28c-68e41f41dff8\" type=\"checkbox\" ><label for=\"b3391c79-6352-4fe1-a28c-68e41f41dff8\" class=\"sk-toggleable__label sk-toggleable__label-arrow\">trs1</label><div class=\"sk-toggleable__content\"><pre>[0, 2, 11]</pre></div></div></div><div class=\"sk-serial\"><div class=\"sk-item\"><div class=\"sk-estimator sk-toggleable\"><input class=\"sk-toggleable__control sk-hidden--visually\" id=\"beaaeae1-7197-4b68-b7e3-5424de544b1d\" type=\"checkbox\" ><label for=\"beaaeae1-7197-4b68-b7e3-5424de544b1d\" class=\"sk-toggleable__label sk-toggleable__label-arrow\">SimpleImputer</label><div class=\"sk-toggleable__content\"><pre>SimpleImputer()</pre></div></div></div></div></div></div><div class=\"sk-parallel-item\"><div class=\"sk-item\"><div class=\"sk-label-container\"><div class=\"sk-label sk-toggleable\"><input class=\"sk-toggleable__control sk-hidden--visually\" id=\"3cfc13a4-563c-4288-8793-9be6b6c27abd\" type=\"checkbox\" ><label for=\"3cfc13a4-563c-4288-8793-9be6b6c27abd\" class=\"sk-toggleable__label sk-toggleable__label-arrow\">trs2</label><div class=\"sk-toggleable__content\"><pre>[1, 5]</pre></div></div></div><div class=\"sk-serial\"><div class=\"sk-item\"><div class=\"sk-estimator sk-toggleable\"><input class=\"sk-toggleable__control sk-hidden--visually\" id=\"364e14ef-dd07-4e44-805f-62ae14e9567e\" type=\"checkbox\" ><label for=\"364e14ef-dd07-4e44-805f-62ae14e9567e\" class=\"sk-toggleable__label sk-toggleable__label-arrow\">OrdinalEncoder</label><div class=\"sk-toggleable__content\"><pre>OrdinalEncoder()</pre></div></div></div></div></div></div><div class=\"sk-parallel-item\"><div class=\"sk-item\"><div class=\"sk-label-container\"><div class=\"sk-label sk-toggleable\"><input class=\"sk-toggleable__control sk-hidden--visually\" id=\"29e25476-d18f-4628-b936-2b131741e638\" type=\"checkbox\" ><label for=\"29e25476-d18f-4628-b936-2b131741e638\" class=\"sk-toggleable__label sk-toggleable__label-arrow\">trs3</label><div class=\"sk-toggleable__content\"><pre>[4, 6, 7, 8, 12]</pre></div></div></div><div class=\"sk-serial\"><div class=\"sk-item\"><div class=\"sk-estimator sk-toggleable\"><input class=\"sk-toggleable__control sk-hidden--visually\" id=\"af6166e6-de30-49a6-a556-08c949c85cca\" type=\"checkbox\" ><label for=\"af6166e6-de30-49a6-a556-08c949c85cca\" class=\"sk-toggleable__label sk-toggleable__label-arrow\">OneHotEncoder</label><div class=\"sk-toggleable__content\"><pre>OneHotEncoder()</pre></div></div></div></div></div></div><div class=\"sk-parallel-item\"><div class=\"sk-item\"><div class=\"sk-label-container\"><div class=\"sk-label sk-toggleable\"><input class=\"sk-toggleable__control sk-hidden--visually\" id=\"6e4e4485-f165-4ad0-a4da-7a9a1835e63c\" type=\"checkbox\" ><label for=\"6e4e4485-f165-4ad0-a4da-7a9a1835e63c\" class=\"sk-toggleable__label sk-toggleable__label-arrow\">remainder</label><div class=\"sk-toggleable__content\"><pre>[&#x27;educational-num&#x27;, &#x27;capital-gain&#x27;, &#x27;capital-loss&#x27;]</pre></div></div></div><div class=\"sk-serial\"><div class=\"sk-item\"><div class=\"sk-estimator sk-toggleable\"><input class=\"sk-toggleable__control sk-hidden--visually\" id=\"5c222ef7-9afd-4798-8159-b78b85c363d1\" type=\"checkbox\" ><label for=\"5c222ef7-9afd-4798-8159-b78b85c363d1\" class=\"sk-toggleable__label sk-toggleable__label-arrow\">passthrough</label><div class=\"sk-toggleable__content\"><pre>passthrough</pre></div></div></div></div></div></div></div></div><div class=\"sk-item\"><div class=\"sk-estimator sk-toggleable\"><input class=\"sk-toggleable__control sk-hidden--visually\" id=\"d2902581-9fb3-471d-b985-fe10adda211c\" type=\"checkbox\" ><label for=\"d2902581-9fb3-471d-b985-fe10adda211c\" class=\"sk-toggleable__label sk-toggleable__label-arrow\">LGBMClassifier</label><div class=\"sk-toggleable__content\"><pre>LGBMClassifier()</pre></div></div></div></div></div></div></div>"
      ],
      "text/plain": [
       "Pipeline(steps=[('transformer1',\n",
       "                 ColumnTransformer(remainder='passthrough',\n",
       "                                   transformers=[('trs1', SimpleImputer(),\n",
       "                                                  [0, 2, 11]),\n",
       "                                                 ('trs2', OrdinalEncoder(),\n",
       "                                                  [1, 5]),\n",
       "                                                 ('trs3', OneHotEncoder(),\n",
       "                                                  [4, 6, 7, 8, 12])])),\n",
       "                ('transformer3', LGBMClassifier())])"
      ]
     },
     "execution_count": 32,
     "metadata": {},
     "output_type": "execute_result"
    }
   ],
   "source": [
    "pipe.fit(x_train,y_train)"
   ]
  },
  {
   "cell_type": "code",
   "execution_count": 33,
   "metadata": {},
   "outputs": [
    {
     "name": "stdout",
     "output_type": "stream",
     "text": [
      "<class 'pandas.core.frame.DataFrame'>\n",
      "Int64Index: 48790 entries, 0 to 48841\n",
      "Data columns (total 14 columns):\n",
      " #   Column           Non-Null Count  Dtype \n",
      "---  ------           --------------  ----- \n",
      " 0   age              48790 non-null  int64 \n",
      " 1   workclass        48790 non-null  object\n",
      " 2   fnlwgt           48790 non-null  int64 \n",
      " 3   educational-num  48790 non-null  int64 \n",
      " 4   marital-status   48790 non-null  object\n",
      " 5   occupation       48790 non-null  object\n",
      " 6   relationship     48790 non-null  object\n",
      " 7   race             48790 non-null  object\n",
      " 8   gender           48790 non-null  object\n",
      " 9   capital-gain     48790 non-null  int64 \n",
      " 10  capital-loss     48790 non-null  int64 \n",
      " 11  hours-per-week   48790 non-null  int64 \n",
      " 12  native-country   48790 non-null  object\n",
      " 13  income           48790 non-null  int32 \n",
      "dtypes: int32(1), int64(6), object(7)\n",
      "memory usage: 5.4+ MB\n"
     ]
    }
   ],
   "source": [
    "df.info()"
   ]
  },
  {
   "cell_type": "markdown",
   "metadata": {},
   "source": [
    "### Step-11 Prediction"
   ]
  },
  {
   "cell_type": "code",
   "execution_count": 34,
   "metadata": {
    "execution": {
     "iopub.execute_input": "2022-12-13T05:42:14.866544Z",
     "iopub.status.busy": "2022-12-13T05:42:14.866061Z",
     "iopub.status.idle": "2022-12-13T05:42:15.244330Z",
     "shell.execute_reply": "2022-12-13T05:42:15.243090Z",
     "shell.execute_reply.started": "2022-12-13T05:42:14.866498Z"
    }
   },
   "outputs": [
    {
     "data": {
      "text/plain": [
       "array([0, 0, 1, ..., 0, 0, 0])"
      ]
     },
     "execution_count": 34,
     "metadata": {},
     "output_type": "execute_result"
    }
   ],
   "source": [
    "y_pred = pipe.predict(x_test)\n",
    "y_pred"
   ]
  },
  {
   "cell_type": "markdown",
   "metadata": {
    "execution": {
     "iopub.execute_input": "2022-12-09T17:44:07.351682Z",
     "iopub.status.busy": "2022-12-09T17:44:07.351341Z",
     "iopub.status.idle": "2022-12-09T17:44:07.355285Z",
     "shell.execute_reply": "2022-12-09T17:44:07.354674Z",
     "shell.execute_reply.started": "2022-12-09T17:44:07.351657Z"
    }
   },
   "source": [
    "### Step-12 Calculating Accuracy"
   ]
  },
  {
   "cell_type": "code",
   "execution_count": 35,
   "metadata": {
    "execution": {
     "iopub.execute_input": "2022-12-13T05:42:15.247046Z",
     "iopub.status.busy": "2022-12-13T05:42:15.246548Z",
     "iopub.status.idle": "2022-12-13T05:42:15.257204Z",
     "shell.execute_reply": "2022-12-13T05:42:15.255994Z",
     "shell.execute_reply.started": "2022-12-13T05:42:15.247002Z"
    }
   },
   "outputs": [
    {
     "data": {
      "text/plain": [
       "0.8759991801598688"
      ]
     },
     "execution_count": 35,
     "metadata": {},
     "output_type": "execute_result"
    }
   ],
   "source": [
    "accuracy_score(y_test,y_pred)"
   ]
  },
  {
   "cell_type": "code",
   "execution_count": 36,
   "metadata": {},
   "outputs": [
    {
     "name": "stderr",
     "output_type": "stream",
     "text": [
      "C:\\Users\\shiva\\anaconda3\\lib\\site-packages\\seaborn\\distributions.py:2619: FutureWarning: `distplot` is a deprecated function and will be removed in a future version. Please adapt your code to use either `displot` (a figure-level function with similar flexibility) or `kdeplot` (an axes-level function for kernel density plots).\n",
      "  warnings.warn(msg, FutureWarning)\n",
      "C:\\Users\\shiva\\anaconda3\\lib\\site-packages\\seaborn\\distributions.py:2619: FutureWarning: `distplot` is a deprecated function and will be removed in a future version. Please adapt your code to use either `displot` (a figure-level function with similar flexibility) or `kdeplot` (an axes-level function for kernel density plots).\n",
      "  warnings.warn(msg, FutureWarning)\n"
     ]
    },
    {
     "data": {
      "text/plain": [
       "<matplotlib.legend.Legend at 0x22711d81850>"
      ]
     },
     "execution_count": 36,
     "metadata": {},
     "output_type": "execute_result"
    },
    {
     "data": {
      "image/png": "[encoded data removed]",
      "text/plain": [
       "<Figure size 640x480 with 1 Axes>"
      ]
     },
     "metadata": {},
     "output_type": "display_data"
    }
   ],
   "source": [
    "ax=sns.distplot(y_test,hist=False,label='Actual Values')\n",
    "ax=sns.distplot(y_pred,hist=False,label='Predicted Values')\n",
    "ax.set_title('LGBMClassifier')\n",
    "plt.legend()"
   ]
  },
  {
   "cell_type": "markdown",
   "metadata": {},
   "source": [
    "### Step-13 Calculating F1 Score"
   ]
  },
  {
   "cell_type": "code",
   "execution_count": 37,
   "metadata": {
    "execution": {
     "iopub.execute_input": "2022-12-13T05:42:15.260253Z",
     "iopub.status.busy": "2022-12-13T05:42:15.259891Z",
     "iopub.status.idle": "2022-12-13T05:42:15.273402Z",
     "shell.execute_reply": "2022-12-13T05:42:15.272388Z",
     "shell.execute_reply.started": "2022-12-13T05:42:15.260213Z"
    }
   },
   "outputs": [
    {
     "data": {
      "text/plain": [
       "0.7176854876341577"
      ]
     },
     "execution_count": 37,
     "metadata": {},
     "output_type": "execute_result"
    }
   ],
   "source": [
    "f1_score(y_test,y_pred)"
   ]
  },
  {
   "cell_type": "markdown",
   "metadata": {},
   "source": [
    "### Step-14 Consusion Matrix"
   ]
  },
  {
   "cell_type": "code",
   "execution_count": 38,
   "metadata": {},
   "outputs": [],
   "source": [
    "confusion_matrix = metrics.confusion_matrix(y_test, y_pred)"
   ]
  },
  {
   "cell_type": "code",
   "execution_count": 39,
   "metadata": {},
   "outputs": [
    {
     "data": {
      "image/png": "[encoded data removed]",
      "text/plain": [
       "<Figure size 640x480 with 2 Axes>"
      ]
     },
     "metadata": {},
     "output_type": "display_data"
    }
   ],
   "source": [
    "cm_display = metrics.ConfusionMatrixDisplay(confusion_matrix = confusion_matrix, display_labels = [False, True])\n",
    "cm_display.plot()\n",
    "plt.show()"
   ]
  },
  {
   "cell_type": "markdown",
   "metadata": {},
   "source": [
    "The Confusion Matrix created has four different quadrants: <br>\n",
    "* True Negative (Top-Left Quadrant) <br>\n",
    "* False Positive (Top-Right Quadrant) <br>\n",
    "* False Negative (Bottom-Left Quadrant) <br>\n",
    "* True Positive (Bottom-Right Quadrant) <br>\n",
    "\n",
    "_True means that the values were accurately predicted, False means that there was an error or wrong prediction._"
   ]
  },
  {
   "cell_type": "markdown",
   "metadata": {},
   "source": [
    "### Step-15 ROC Curve"
   ]
  },
  {
   "cell_type": "code",
   "execution_count": 40,
   "metadata": {},
   "outputs": [
    {
     "data": {
      "image/png": "[encoded data removed]",
      "text/plain": [
       "<Figure size 640x480 with 1 Axes>"
      ]
     },
     "metadata": {},
     "output_type": "display_data"
    }
   ],
   "source": [
    "y_pred_proba = pipe.predict_proba(x_test)[::,1]\n",
    "fpr, tpr, _ = metrics.roc_curve(y_test,  y_pred_proba)\n",
    "auc = metrics.roc_auc_score(y_test, y_pred_proba)\n",
    "\n",
    "#create ROC curve\n",
    "plt.plot(fpr,tpr,label=\"AUC=\"+str(auc))\n",
    "plt.ylabel('True Positive Rate')\n",
    "plt.xlabel('False Positive Rate')\n",
    "plt.legend(loc=4)\n",
    "plt.show()"
   ]
  },
  {
   "cell_type": "markdown",
   "metadata": {},
   "source": [
    "-------------------------------------------------------------------------------------------------\n",
    "---------------------------------------------"
   ]
  },
  {
   "cell_type": "markdown",
   "metadata": {},
   "source": [
    "### Dumping Pickle File"
   ]
  },
  {
   "cell_type": "code",
   "execution_count": 41,
   "metadata": {
    "execution": {
     "iopub.execute_input": "2022-12-09T19:04:49.903168Z",
     "iopub.status.busy": "2022-12-09T19:04:49.902858Z",
     "iopub.status.idle": "2022-12-09T19:04:49.977629Z",
     "shell.execute_reply": "2022-12-09T19:04:49.976762Z",
     "shell.execute_reply.started": "2022-12-09T19:04:49.903145Z"
    }
   },
   "outputs": [],
   "source": [
    "import pickle\n",
    "pickle.dump(pipe,open('pipe.pkl','wb'))"
   ]
  },
  {
   "cell_type": "markdown",
   "metadata": {},
   "source": [
    "-----------------------THANK YOU-------------------------"
   ]
  }
 ],
 "metadata": {
  "kernelspec": {
   "display_name": "Python 3 (ipykernel)",
   "language": "python",
   "name": "python3"
  },
  "language_info": {
   "codemirror_mode": {
    "name": "ipython",
    "version": 3
   },
   "file_extension": ".py",
   "mimetype": "text/x-python",
   "name": "python",
   "nbconvert_exporter": "python",
   "pygments_lexer": "ipython3",
   "version": "3.9.13"
  }
 },
 "nbformat": 4,
 "nbformat_minor": 4
}
